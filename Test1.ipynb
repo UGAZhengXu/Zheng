{
 "cells": [
  {
   "cell_type": "code",
   "execution_count": 1,
   "id": "812a6ce0-80c9-48ef-a538-770b90e1ba9f",
   "metadata": {},
   "outputs": [],
   "source": [
    "a_list=[]"
   ]
  },
  {
   "cell_type": "code",
   "execution_count": 5,
   "id": "17fec391-7756-46cf-9fcc-52f6a19912b6",
   "metadata": {},
   "outputs": [],
   "source": [
    "b_list=[1,2,3,4]"
   ]
  },
  {
   "cell_type": "code",
   "execution_count": 3,
   "id": "d6e843a8-c0b7-4c64-b271-c9c26b18de1e",
   "metadata": {},
   "outputs": [
    {
     "data": {
      "text/plain": [
       "3"
      ]
     },
     "execution_count": 3,
     "metadata": {},
     "output_type": "execute_result"
    }
   ],
   "source": [
    "len(b_list)"
   ]
  },
  {
   "cell_type": "code",
   "execution_count": 4,
   "id": "b52f4f6f-4e5b-4a4f-99b9-7f3cbbaf9f43",
   "metadata": {},
   "outputs": [
    {
     "data": {
      "text/plain": [
       "list"
      ]
     },
     "execution_count": 4,
     "metadata": {},
     "output_type": "execute_result"
    }
   ],
   "source": [
    "type(a_list)"
   ]
  },
  {
   "cell_type": "code",
   "execution_count": 5,
   "id": "5dd9b3a7-8781-4d96-88dc-600aa85cd3cf",
   "metadata": {},
   "outputs": [
    {
     "data": {
      "text/plain": [
       "['__add__',\n",
       " '__class__',\n",
       " '__class_getitem__',\n",
       " '__contains__',\n",
       " '__delattr__',\n",
       " '__delitem__',\n",
       " '__dir__',\n",
       " '__doc__',\n",
       " '__eq__',\n",
       " '__format__',\n",
       " '__ge__',\n",
       " '__getattribute__',\n",
       " '__getitem__',\n",
       " '__gt__',\n",
       " '__hash__',\n",
       " '__iadd__',\n",
       " '__imul__',\n",
       " '__init__',\n",
       " '__init_subclass__',\n",
       " '__iter__',\n",
       " '__le__',\n",
       " '__len__',\n",
       " '__lt__',\n",
       " '__mul__',\n",
       " '__ne__',\n",
       " '__new__',\n",
       " '__reduce__',\n",
       " '__reduce_ex__',\n",
       " '__repr__',\n",
       " '__reversed__',\n",
       " '__rmul__',\n",
       " '__setattr__',\n",
       " '__setitem__',\n",
       " '__sizeof__',\n",
       " '__str__',\n",
       " '__subclasshook__',\n",
       " 'append',\n",
       " 'clear',\n",
       " 'copy',\n",
       " 'count',\n",
       " 'extend',\n",
       " 'index',\n",
       " 'insert',\n",
       " 'pop',\n",
       " 'remove',\n",
       " 'reverse',\n",
       " 'sort']"
      ]
     },
     "execution_count": 5,
     "metadata": {},
     "output_type": "execute_result"
    }
   ],
   "source": [
    "dir(a_list)"
   ]
  },
  {
   "cell_type": "code",
   "execution_count": 6,
   "id": "6cb34e78-e710-4143-a6d3-5a57931e8e88",
   "metadata": {},
   "outputs": [],
   "source": [
    "b_list.append(4)"
   ]
  },
  {
   "cell_type": "code",
   "execution_count": 7,
   "id": "6f39077c-8d7d-4b81-a975-c1b2d21b312b",
   "metadata": {},
   "outputs": [
    {
     "data": {
      "text/plain": [
       "[1, 2, 3, 4]"
      ]
     },
     "execution_count": 7,
     "metadata": {},
     "output_type": "execute_result"
    }
   ],
   "source": [
    "b_list"
   ]
  },
  {
   "cell_type": "code",
   "execution_count": 8,
   "id": "a96485ca-6862-4bec-8cdc-91809926bceb",
   "metadata": {},
   "outputs": [],
   "source": [
    "b_list.append([4,5,6])"
   ]
  },
  {
   "cell_type": "code",
   "execution_count": 9,
   "id": "311e41bc-9e33-45f2-bb89-b87b203cc872",
   "metadata": {},
   "outputs": [
    {
     "data": {
      "text/plain": [
       "[1, 2, 3, 4, [4, 5, 6]]"
      ]
     },
     "execution_count": 9,
     "metadata": {},
     "output_type": "execute_result"
    }
   ],
   "source": [
    "b_list"
   ]
  },
  {
   "cell_type": "code",
   "execution_count": 9,
   "id": "fb5a0d0b-fc8f-43ce-a8a0-98453df292eb",
   "metadata": {},
   "outputs": [],
   "source": [
    "b_list.append(\"hello\")"
   ]
  },
  {
   "cell_type": "code",
   "execution_count": 8,
   "id": "0534e123-5994-4c0e-a6c6-0cda0edf5e99",
   "metadata": {},
   "outputs": [],
   "source": [
    "b_list.append(5)"
   ]
  },
  {
   "cell_type": "code",
   "execution_count": 6,
   "id": "00401a1f-3ea9-455a-84e3-6090bec30718",
   "metadata": {},
   "outputs": [
    {
     "data": {
      "text/plain": [
       "[1, 2, 3, 4]"
      ]
     },
     "execution_count": 6,
     "metadata": {},
     "output_type": "execute_result"
    }
   ],
   "source": [
    "b_list"
   ]
  },
  {
   "cell_type": "code",
   "execution_count": 10,
   "id": "d928bf43-d1d3-4a41-8b7c-e84bf0593122",
   "metadata": {},
   "outputs": [
    {
     "data": {
      "text/plain": [
       "[1, 2, 3, 4, 5, 'hello']"
      ]
     },
     "execution_count": 10,
     "metadata": {},
     "output_type": "execute_result"
    }
   ],
   "source": [
    "b_list"
   ]
  },
  {
   "cell_type": "code",
   "execution_count": 11,
   "id": "372ba965-f9b9-4703-b193-9fd4b4d7c3ed",
   "metadata": {},
   "outputs": [],
   "source": [
    "b_list.extend([1,2,3])"
   ]
  },
  {
   "cell_type": "code",
   "execution_count": 12,
   "id": "fe90cedf-76b0-42c8-ab2b-39a1ed7f50b2",
   "metadata": {},
   "outputs": [
    {
     "data": {
      "text/plain": [
       "[1, 2, 3, 4, 5, 'hello', 1, 2, 3]"
      ]
     },
     "execution_count": 12,
     "metadata": {},
     "output_type": "execute_result"
    }
   ],
   "source": [
    "b_list"
   ]
  },
  {
   "cell_type": "code",
   "execution_count": 13,
   "id": "705774a0-babf-4417-b6f8-026ae38a1245",
   "metadata": {},
   "outputs": [
    {
     "data": {
      "text/plain": [
       "<list_iterator at 0x19db3088f40>"
      ]
     },
     "execution_count": 13,
     "metadata": {},
     "output_type": "execute_result"
    }
   ],
   "source": [
    "iter([1,2,3])"
   ]
  },
  {
   "cell_type": "code",
   "execution_count": 14,
   "id": "d1b4bf83-c5e7-465f-92ce-e2080c8a9f4b",
   "metadata": {},
   "outputs": [
    {
     "data": {
      "text/plain": [
       "[2, 3, 4, 5, 'hello', 1, 2, 3]"
      ]
     },
     "execution_count": 14,
     "metadata": {},
     "output_type": "execute_result"
    }
   ],
   "source": [
    "del b_list[0]\n",
    "b_list"
   ]
  },
  {
   "cell_type": "code",
   "execution_count": 15,
   "id": "acfd3a2e-12da-4d79-9e97-7663c1f87f62",
   "metadata": {},
   "outputs": [
    {
     "data": {
      "text/plain": [
       "'hello'"
      ]
     },
     "execution_count": 15,
     "metadata": {},
     "output_type": "execute_result"
    }
   ],
   "source": [
    "b_list[4]"
   ]
  },
  {
   "cell_type": "code",
   "execution_count": 16,
   "id": "7e1c6bf7-29a7-4ccf-a359-723fa2ad065c",
   "metadata": {},
   "outputs": [
    {
     "data": {
      "text/plain": [
       "3"
      ]
     },
     "execution_count": 16,
     "metadata": {},
     "output_type": "execute_result"
    }
   ],
   "source": [
    "b_list[-1]"
   ]
  },
  {
   "cell_type": "code",
   "execution_count": 17,
   "id": "1ea496ed-f216-4d12-b5f7-a84ec8c5725e",
   "metadata": {},
   "outputs": [
    {
     "data": {
      "text/plain": [
       "8"
      ]
     },
     "execution_count": 17,
     "metadata": {},
     "output_type": "execute_result"
    }
   ],
   "source": [
    "len(b_list)"
   ]
  },
  {
   "cell_type": "code",
   "execution_count": 18,
   "id": "9beaf845-fe98-42f9-bb2c-ff36521e4a00",
   "metadata": {},
   "outputs": [
    {
     "data": {
      "text/plain": [
       "[2, 3, 4, 5, 'hello', 1, 2, 3]"
      ]
     },
     "execution_count": 18,
     "metadata": {},
     "output_type": "execute_result"
    }
   ],
   "source": [
    "b_list"
   ]
  },
  {
   "cell_type": "code",
   "execution_count": 20,
   "id": "27538a1a-28fa-47cf-ac6d-b22abb368364",
   "metadata": {},
   "outputs": [
    {
     "data": {
      "text/plain": [
       "[3, 4]"
      ]
     },
     "execution_count": 20,
     "metadata": {},
     "output_type": "execute_result"
    }
   ],
   "source": [
    "b_list[1:3]"
   ]
  },
  {
   "cell_type": "code",
   "execution_count": 21,
   "id": "4a506116-285c-469c-b016-40896ef53b41",
   "metadata": {},
   "outputs": [
    {
     "data": {
      "text/plain": [
       "[2, 3, 4]"
      ]
     },
     "execution_count": 21,
     "metadata": {},
     "output_type": "execute_result"
    }
   ],
   "source": [
    "b_list[0:3]"
   ]
  },
  {
   "cell_type": "code",
   "execution_count": 22,
   "id": "5b160620-0d1f-4280-ac0f-893cea014af3",
   "metadata": {},
   "outputs": [
    {
     "data": {
      "text/plain": [
       "[2, 3, 4]"
      ]
     },
     "execution_count": 22,
     "metadata": {},
     "output_type": "execute_result"
    }
   ],
   "source": [
    "b_list[:3]"
   ]
  },
  {
   "cell_type": "code",
   "execution_count": 24,
   "id": "5baf3838-5989-4fc9-9210-995b4aeeee28",
   "metadata": {},
   "outputs": [
    {
     "data": {
      "text/plain": [
       "[3]"
      ]
     },
     "execution_count": 24,
     "metadata": {},
     "output_type": "execute_result"
    }
   ],
   "source": [
    "b_list[-1:]"
   ]
  },
  {
   "cell_type": "code",
   "execution_count": 25,
   "id": "6f3f6772-a63c-49d4-a721-d455eac128e8",
   "metadata": {},
   "outputs": [
    {
     "data": {
      "text/plain": [
       "[2, 3, 4, 5, 'hello', 1, 2]"
      ]
     },
     "execution_count": 25,
     "metadata": {},
     "output_type": "execute_result"
    }
   ],
   "source": [
    "b_list[:-1]"
   ]
  },
  {
   "cell_type": "code",
   "execution_count": 26,
   "id": "c68cf33d-299e-4dd5-ab2d-df51042da9d5",
   "metadata": {},
   "outputs": [
    {
     "data": {
      "text/plain": [
       "[2, 3, 4, 5, 'hello', 1, 2, 3]"
      ]
     },
     "execution_count": 26,
     "metadata": {},
     "output_type": "execute_result"
    }
   ],
   "source": [
    "b_list[:]"
   ]
  },
  {
   "cell_type": "code",
   "execution_count": 27,
   "id": "5c250d85-1f6e-42bd-9531-463864cd7e1c",
   "metadata": {},
   "outputs": [
    {
     "data": {
      "text/plain": [
       "[4, 'hello', 2]"
      ]
     },
     "execution_count": 27,
     "metadata": {},
     "output_type": "execute_result"
    }
   ],
   "source": [
    "b_list[2:7:2]"
   ]
  },
  {
   "cell_type": "code",
   "execution_count": 29,
   "id": "0c947006-02a9-4489-97c9-cb18d2d4f25e",
   "metadata": {},
   "outputs": [
    {
     "data": {
      "text/plain": [
       "[3, 2, 1, 'hello', 5, 4, 3, 2]"
      ]
     },
     "execution_count": 29,
     "metadata": {},
     "output_type": "execute_result"
    }
   ],
   "source": [
    "b_list[::-1]"
   ]
  },
  {
   "cell_type": "raw",
   "id": "9c927c20-b064-494d-a316-f1f5df4dda62",
   "metadata": {},
   "source": [
    "reversed(b_list)"
   ]
  },
  {
   "cell_type": "code",
   "execution_count": 30,
   "id": "ce6e8ee5-b5b4-4467-a639-8761d722874b",
   "metadata": {},
   "outputs": [
    {
     "data": {
      "text/plain": [
       "[2, 3, 4, 5, 'hello', 1, 2, 3]"
      ]
     },
     "execution_count": 30,
     "metadata": {},
     "output_type": "execute_result"
    }
   ],
   "source": [
    "b_list"
   ]
  },
  {
   "cell_type": "code",
   "execution_count": 37,
   "id": "3a66422e-d6a3-444e-8ea1-34c8f22c26c9",
   "metadata": {},
   "outputs": [],
   "source": [
    "b_list.reverse()"
   ]
  },
  {
   "cell_type": "code",
   "execution_count": 32,
   "id": "082d5826-3158-4575-b79c-8926a1401bf4",
   "metadata": {},
   "outputs": [
    {
     "data": {
      "text/plain": [
       "[3, 2, 1, 'hello', 5, 4, 3, 2]"
      ]
     },
     "execution_count": 32,
     "metadata": {},
     "output_type": "execute_result"
    }
   ],
   "source": [
    "b_list"
   ]
  },
  {
   "cell_type": "code",
   "execution_count": 35,
   "id": "8e5d758b-e2cc-4ae4-86e4-819aa536afee",
   "metadata": {},
   "outputs": [
    {
     "data": {
      "text/plain": [
       "<list_reverseiterator at 0x19db31af0d0>"
      ]
     },
     "execution_count": 35,
     "metadata": {},
     "output_type": "execute_result"
    }
   ],
   "source": [
    "reversed(b_list)"
   ]
  },
  {
   "cell_type": "code",
   "execution_count": 34,
   "id": "7bb7baeb-7ca5-4e12-948a-0df3c2ee8747",
   "metadata": {},
   "outputs": [
    {
     "data": {
      "text/plain": [
       "[3, 2, 1, 'hello', 5, 4, 3, 2]"
      ]
     },
     "execution_count": 34,
     "metadata": {},
     "output_type": "execute_result"
    }
   ],
   "source": [
    "b_list"
   ]
  },
  {
   "cell_type": "code",
   "execution_count": 36,
   "id": "9c38e815-8466-4bd9-b378-cc00526c43dc",
   "metadata": {},
   "outputs": [
    {
     "data": {
      "text/plain": [
       "[3, 2, 1, 'hello', 5, 4, 3, 2]"
      ]
     },
     "execution_count": 36,
     "metadata": {},
     "output_type": "execute_result"
    }
   ],
   "source": [
    "b_list"
   ]
  },
  {
   "cell_type": "code",
   "execution_count": 38,
   "id": "fe744a38-07e5-4df4-b8b6-abc366a4b2aa",
   "metadata": {},
   "outputs": [
    {
     "data": {
      "text/plain": [
       "[2, 3, 4, 5, 'hello', 1, 2, 3]"
      ]
     },
     "execution_count": 38,
     "metadata": {},
     "output_type": "execute_result"
    }
   ],
   "source": [
    "b_list"
   ]
  },
  {
   "cell_type": "code",
   "execution_count": 39,
   "id": "b9ce9307-f64e-4f5b-8395-c4b029d5459a",
   "metadata": {},
   "outputs": [],
   "source": [
    "b_list.append([1,2,3])"
   ]
  },
  {
   "cell_type": "code",
   "execution_count": 40,
   "id": "9aad3f31-0028-45b0-82e0-8d1d451e4710",
   "metadata": {},
   "outputs": [
    {
     "data": {
      "text/plain": [
       "[2, 3, 4, 5, 'hello', 1, 2, 3, [1, 2, 3]]"
      ]
     },
     "execution_count": 40,
     "metadata": {},
     "output_type": "execute_result"
    }
   ],
   "source": [
    "b_list"
   ]
  },
  {
   "cell_type": "code",
   "execution_count": 42,
   "id": "bf2318ca-9b07-404a-a3f6-9d4d99a23d10",
   "metadata": {},
   "outputs": [
    {
     "data": {
      "text/plain": [
       "<list_reverseiterator at 0x19db31b6e50>"
      ]
     },
     "execution_count": 42,
     "metadata": {},
     "output_type": "execute_result"
    }
   ],
   "source": [
    "r_list"
   ]
  },
  {
   "cell_type": "code",
   "execution_count": 43,
   "id": "eaef3f30-2d75-491a-b657-b201d2dfdf4b",
   "metadata": {},
   "outputs": [
    {
     "data": {
      "text/plain": [
       "[2, 3, 4, 5, 'hello', 1, 2, 3, [1, 2, 3]]"
      ]
     },
     "execution_count": 43,
     "metadata": {},
     "output_type": "execute_result"
    }
   ],
   "source": [
    "b_list"
   ]
  },
  {
   "cell_type": "code",
   "execution_count": 44,
   "id": "d5a87a6c-6784-4f7e-ad0c-18b1027f09ef",
   "metadata": {},
   "outputs": [
    {
     "data": {
      "text/plain": [
       "[[1, 2, 3], 3, 2, 1, 'hello', 5, 4, 3, 2]"
      ]
     },
     "execution_count": 44,
     "metadata": {},
     "output_type": "execute_result"
    }
   ],
   "source": [
    "list(r_list)"
   ]
  },
  {
   "cell_type": "code",
   "execution_count": 52,
   "id": "1bd8b54f-15b4-4295-9c41-7a8bd2e1d195",
   "metadata": {},
   "outputs": [],
   "source": [
    "a_tuple = (1,2)"
   ]
  },
  {
   "cell_type": "code",
   "execution_count": 53,
   "id": "36f47a5c-1fbd-479e-a3fa-776a64f4cd83",
   "metadata": {},
   "outputs": [
    {
     "data": {
      "text/plain": [
       "(1, 2)"
      ]
     },
     "execution_count": 53,
     "metadata": {},
     "output_type": "execute_result"
    }
   ],
   "source": [
    "a_tuple"
   ]
  },
  {
   "cell_type": "code",
   "execution_count": 54,
   "id": "4478148e-745b-4b84-accf-8f83704443f5",
   "metadata": {},
   "outputs": [
    {
     "ename": "TypeError",
     "evalue": "'tuple' object doesn't support item deletion",
     "output_type": "error",
     "traceback": [
      "\u001b[1;31m---------------------------------------------------------------------------\u001b[0m",
      "\u001b[1;31mTypeError\u001b[0m                                 Traceback (most recent call last)",
      "Cell \u001b[1;32mIn[54], line 1\u001b[0m\n\u001b[1;32m----> 1\u001b[0m \u001b[38;5;28;01mdel\u001b[39;00m a_tuple[\u001b[38;5;241m1\u001b[39m]\n",
      "\u001b[1;31mTypeError\u001b[0m: 'tuple' object doesn't support item deletion"
     ]
    }
   ],
   "source": [
    "del a_tuple[1]"
   ]
  },
  {
   "cell_type": "code",
   "execution_count": 55,
   "id": "e92b79c7-d92c-4b1e-8044-08c40c02c546",
   "metadata": {},
   "outputs": [
    {
     "data": {
      "text/plain": [
       "['__add__',\n",
       " '__class__',\n",
       " '__class_getitem__',\n",
       " '__contains__',\n",
       " '__delattr__',\n",
       " '__dir__',\n",
       " '__doc__',\n",
       " '__eq__',\n",
       " '__format__',\n",
       " '__ge__',\n",
       " '__getattribute__',\n",
       " '__getitem__',\n",
       " '__getnewargs__',\n",
       " '__gt__',\n",
       " '__hash__',\n",
       " '__init__',\n",
       " '__init_subclass__',\n",
       " '__iter__',\n",
       " '__le__',\n",
       " '__len__',\n",
       " '__lt__',\n",
       " '__mul__',\n",
       " '__ne__',\n",
       " '__new__',\n",
       " '__reduce__',\n",
       " '__reduce_ex__',\n",
       " '__repr__',\n",
       " '__rmul__',\n",
       " '__setattr__',\n",
       " '__sizeof__',\n",
       " '__str__',\n",
       " '__subclasshook__',\n",
       " 'count',\n",
       " 'index']"
      ]
     },
     "execution_count": 55,
     "metadata": {},
     "output_type": "execute_result"
    }
   ],
   "source": [
    "dir (a_tuple)"
   ]
  },
  {
   "cell_type": "code",
   "execution_count": 56,
   "id": "fd337296-4acc-4987-ba7e-ab819742d311",
   "metadata": {},
   "outputs": [
    {
     "ename": "AttributeError",
     "evalue": "'tuple' object has no attribute 'extend'",
     "output_type": "error",
     "traceback": [
      "\u001b[1;31m---------------------------------------------------------------------------\u001b[0m",
      "\u001b[1;31mAttributeError\u001b[0m                            Traceback (most recent call last)",
      "Cell \u001b[1;32mIn[56], line 1\u001b[0m\n\u001b[1;32m----> 1\u001b[0m \u001b[43ma_tuple\u001b[49m\u001b[38;5;241;43m.\u001b[39;49m\u001b[43mextend\u001b[49m([\u001b[38;5;241m1\u001b[39m,\u001b[38;5;241m2\u001b[39m,\u001b[38;5;241m3\u001b[39m])\n",
      "\u001b[1;31mAttributeError\u001b[0m: 'tuple' object has no attribute 'extend'"
     ]
    }
   ],
   "source": [
    "a_tuple.extend([1,2,3])"
   ]
  },
  {
   "cell_type": "code",
   "execution_count": 59,
   "id": "9b2e11e8-ecbe-4b09-852f-6326a8acc1c7",
   "metadata": {},
   "outputs": [],
   "source": [
    "(a,b)=1,2"
   ]
  },
  {
   "cell_type": "code",
   "execution_count": 60,
   "id": "6c518675-162e-4624-969f-2f714224ec61",
   "metadata": {},
   "outputs": [
    {
     "data": {
      "text/plain": [
       "(1, 2)"
      ]
     },
     "execution_count": 60,
     "metadata": {},
     "output_type": "execute_result"
    }
   ],
   "source": [
    "a,b"
   ]
  },
  {
   "cell_type": "code",
   "execution_count": 61,
   "id": "f50f4a31-a222-46fc-bb0e-160f1b8e3b60",
   "metadata": {},
   "outputs": [
    {
     "ename": "AttributeError",
     "evalue": "'int' object has no attribute 'extend'",
     "output_type": "error",
     "traceback": [
      "\u001b[1;31m---------------------------------------------------------------------------\u001b[0m",
      "\u001b[1;31mAttributeError\u001b[0m                            Traceback (most recent call last)",
      "Cell \u001b[1;32mIn[61], line 1\u001b[0m\n\u001b[1;32m----> 1\u001b[0m \u001b[43ma\u001b[49m\u001b[38;5;241;43m.\u001b[39;49m\u001b[43mextend\u001b[49m([\u001b[38;5;241m1\u001b[39m,\u001b[38;5;241m2\u001b[39m,\u001b[38;5;241m3\u001b[39m])\n",
      "\u001b[1;31mAttributeError\u001b[0m: 'int' object has no attribute 'extend'"
     ]
    }
   ],
   "source": [
    "a.extend([1,2,3])"
   ]
  },
  {
   "cell_type": "code",
   "execution_count": 62,
   "id": "282024af-0d10-4c79-bb06-1d9f333bd957",
   "metadata": {},
   "outputs": [],
   "source": [
    "a = 1"
   ]
  },
  {
   "cell_type": "code",
   "execution_count": 63,
   "id": "5690069b-4b39-4700-9a28-01175bba2f3f",
   "metadata": {},
   "outputs": [
    {
     "ename": "AttributeError",
     "evalue": "'int' object has no attribute 'extend'",
     "output_type": "error",
     "traceback": [
      "\u001b[1;31m---------------------------------------------------------------------------\u001b[0m",
      "\u001b[1;31mAttributeError\u001b[0m                            Traceback (most recent call last)",
      "Cell \u001b[1;32mIn[63], line 1\u001b[0m\n\u001b[1;32m----> 1\u001b[0m \u001b[43ma\u001b[49m\u001b[38;5;241;43m.\u001b[39;49m\u001b[43mextend\u001b[49m([\u001b[38;5;241m1\u001b[39m,\u001b[38;5;241m2\u001b[39m,\u001b[38;5;241m3\u001b[39m])\n",
      "\u001b[1;31mAttributeError\u001b[0m: 'int' object has no attribute 'extend'"
     ]
    }
   ],
   "source": [
    "a.extend([1,2,3])"
   ]
  },
  {
   "cell_type": "code",
   "execution_count": 64,
   "id": "9c0ae2af-62a7-46e4-bd4a-5ea8992f32d8",
   "metadata": {},
   "outputs": [],
   "source": [
    "zipped_list = zip([1,2,3],['a','b','c'])"
   ]
  },
  {
   "cell_type": "code",
   "execution_count": 65,
   "id": "514d67a6-00bc-4b36-ba4d-702d475dd8a6",
   "metadata": {},
   "outputs": [
    {
     "data": {
      "text/plain": [
       "<zip at 0x19db4cb5640>"
      ]
     },
     "execution_count": 65,
     "metadata": {},
     "output_type": "execute_result"
    }
   ],
   "source": [
    "zipped_list"
   ]
  },
  {
   "cell_type": "code",
   "execution_count": 66,
   "id": "740e8a9b-f30c-4897-a822-bf8aaf3113c5",
   "metadata": {},
   "outputs": [
    {
     "data": {
      "text/plain": [
       "[(1, 'a'), (2, 'b'), (3, 'c')]"
      ]
     },
     "execution_count": 66,
     "metadata": {},
     "output_type": "execute_result"
    }
   ],
   "source": [
    "list(zipped_list)"
   ]
  },
  {
   "cell_type": "code",
   "execution_count": 67,
   "id": "9c24a15d-2371-4f14-97c9-ded4bb255bab",
   "metadata": {},
   "outputs": [
    {
     "ename": "SyntaxError",
     "evalue": "invalid character '，' (U+FF0C) (2220071971.py, line 1)",
     "output_type": "error",
     "traceback": [
      "\u001b[1;36m  Cell \u001b[1;32mIn[67], line 1\u001b[1;36m\u001b[0m\n\u001b[1;33m    zipped_list2 = zip([1,2,3],['a','b','c'，’d'])\u001b[0m\n\u001b[1;37m                                           ^\u001b[0m\n\u001b[1;31mSyntaxError\u001b[0m\u001b[1;31m:\u001b[0m invalid character '，' (U+FF0C)\n"
     ]
    }
   ],
   "source": [
    "zipped_list2 = zip([1,2,3],['a','b','c'，’d'])"
   ]
  },
  {
   "cell_type": "code",
   "execution_count": 68,
   "id": "c9e1657d-cac8-4c3b-91e0-4ffbe5b06e5c",
   "metadata": {},
   "outputs": [],
   "source": [
    "a_string=\"zheng\""
   ]
  },
  {
   "cell_type": "code",
   "execution_count": 69,
   "id": "e52a3e5f-bccd-4a1c-9550-c2897955dc7c",
   "metadata": {},
   "outputs": [
    {
     "data": {
      "text/plain": [
       "str"
      ]
     },
     "execution_count": 69,
     "metadata": {},
     "output_type": "execute_result"
    }
   ],
   "source": [
    "type(a_string)"
   ]
  },
  {
   "cell_type": "code",
   "execution_count": 70,
   "id": "4d01715f-944d-4cb8-8794-91ccd1944450",
   "metadata": {},
   "outputs": [
    {
     "data": {
      "text/plain": [
       "'3'"
      ]
     },
     "execution_count": 70,
     "metadata": {},
     "output_type": "execute_result"
    }
   ],
   "source": [
    "str(3)"
   ]
  },
  {
   "cell_type": "code",
   "execution_count": 71,
   "id": "6c161647-92da-426a-a488-dadd7b879345",
   "metadata": {},
   "outputs": [
    {
     "data": {
      "text/plain": [
       "('z', 'h', 'e', 'n', 'g')"
      ]
     },
     "execution_count": 71,
     "metadata": {},
     "output_type": "execute_result"
    }
   ],
   "source": [
    "tuple(\"zheng\")"
   ]
  },
  {
   "cell_type": "code",
   "execution_count": 72,
   "id": "1506896e-cc6a-4bf5-a7f6-c4f7a28938f6",
   "metadata": {},
   "outputs": [
    {
     "data": {
      "text/plain": [
       "107"
      ]
     },
     "execution_count": 72,
     "metadata": {},
     "output_type": "execute_result"
    }
   ],
   "source": [
    "ord(\"k\")"
   ]
  },
  {
   "cell_type": "code",
   "execution_count": 73,
   "id": "d399c711-0fc2-432c-9adb-0fe163586cd4",
   "metadata": {},
   "outputs": [
    {
     "data": {
      "text/plain": [
       "90"
      ]
     },
     "execution_count": 73,
     "metadata": {},
     "output_type": "execute_result"
    }
   ],
   "source": [
    "ord(\"Z\")"
   ]
  },
  {
   "cell_type": "code",
   "execution_count": 74,
   "id": "64fa5928-0433-4072-a916-c4871a712e43",
   "metadata": {},
   "outputs": [
    {
     "data": {
      "text/plain": [
       "197"
      ]
     },
     "execution_count": 74,
     "metadata": {},
     "output_type": "execute_result"
    }
   ],
   "source": [
    "ord(\"Z\")+ord(\"k\")"
   ]
  },
  {
   "cell_type": "code",
   "execution_count": 75,
   "id": "aefa3bd8-c855-4e89-8e35-5846f1e72fb1",
   "metadata": {},
   "outputs": [
    {
     "data": {
      "text/plain": [
       "False"
      ]
     },
     "execution_count": 75,
     "metadata": {},
     "output_type": "execute_result"
    }
   ],
   "source": [
    "\"Zheng\">\"zheng\""
   ]
  },
  {
   "cell_type": "code",
   "execution_count": 76,
   "id": "ca5561e1-ecaa-4c53-9acc-74b5a815f10a",
   "metadata": {},
   "outputs": [
    {
     "data": {
      "text/plain": [
       "True"
      ]
     },
     "execution_count": 76,
     "metadata": {},
     "output_type": "execute_result"
    }
   ],
   "source": [
    "\"Zheng\"<\"zheng\""
   ]
  },
  {
   "cell_type": "code",
   "execution_count": 77,
   "id": "2c44a4b8-7dc0-4b0f-9470-cc172e3a6633",
   "metadata": {},
   "outputs": [
    {
     "data": {
      "text/plain": [
       "True"
      ]
     },
     "execution_count": 77,
     "metadata": {},
     "output_type": "execute_result"
    }
   ],
   "source": [
    "\"Zheng\"<\"zHeng\""
   ]
  },
  {
   "cell_type": "code",
   "execution_count": 78,
   "id": "fe3d8609-42b5-4a89-931f-60f6645c1d79",
   "metadata": {},
   "outputs": [
    {
     "data": {
      "text/plain": [
       "['A', 'a', 'b', 'q', 'z']"
      ]
     },
     "execution_count": 78,
     "metadata": {},
     "output_type": "execute_result"
    }
   ],
   "source": [
    "c_list = [\"a\",\"q\",\"b\",\"z\",\"A\"]\n",
    "c_list.sort()\n",
    "c_list"
   ]
  },
  {
   "cell_type": "code",
   "execution_count": 79,
   "id": "3d804e27-af4e-4c7c-9023-dcb02dd5602a",
   "metadata": {},
   "outputs": [
    {
     "data": {
      "text/plain": [
       "'/'"
      ]
     },
     "execution_count": 79,
     "metadata": {},
     "output_type": "execute_result"
    }
   ],
   "source": [
    "chr(47)"
   ]
  },
  {
   "cell_type": "code",
   "execution_count": 81,
   "id": "26a01d67-ab81-40eb-a051-2a1938b1d6d4",
   "metadata": {},
   "outputs": [
    {
     "ename": "TypeError",
     "evalue": "an integer is required (got type str)",
     "output_type": "error",
     "traceback": [
      "\u001b[1;31m---------------------------------------------------------------------------\u001b[0m",
      "\u001b[1;31mTypeError\u001b[0m                                 Traceback (most recent call last)",
      "Cell \u001b[1;32mIn[81], line 1\u001b[0m\n\u001b[1;32m----> 1\u001b[0m \u001b[38;5;28;43mchr\u001b[39;49m\u001b[43m(\u001b[49m\u001b[38;5;124;43m\"\u001b[39;49m\u001b[38;5;124;43ma\u001b[39;49m\u001b[38;5;124;43m\"\u001b[39;49m\u001b[43m)\u001b[49m\n",
      "\u001b[1;31mTypeError\u001b[0m: an integer is required (got type str)"
     ]
    }
   ],
   "source": [
    "chr(\"a\")"
   ]
  },
  {
   "cell_type": "code",
   "execution_count": 82,
   "id": "f207c91d-7f2d-4e08-834b-613e8a8f0f09",
   "metadata": {},
   "outputs": [
    {
     "data": {
      "text/plain": [
       "'zh'"
      ]
     },
     "execution_count": 82,
     "metadata": {},
     "output_type": "execute_result"
    }
   ],
   "source": [
    "a_string[:2]"
   ]
  },
  {
   "cell_type": "code",
   "execution_count": 85,
   "id": "b0ffae0d-2be4-40c0-baf1-35bc4b4584c7",
   "metadata": {},
   "outputs": [
    {
     "data": {
      "text/plain": [
       "['__add__',\n",
       " '__class__',\n",
       " '__contains__',\n",
       " '__delattr__',\n",
       " '__dir__',\n",
       " '__doc__',\n",
       " '__eq__',\n",
       " '__format__',\n",
       " '__ge__',\n",
       " '__getattribute__',\n",
       " '__getitem__',\n",
       " '__getnewargs__',\n",
       " '__gt__',\n",
       " '__hash__',\n",
       " '__init__',\n",
       " '__init_subclass__',\n",
       " '__iter__',\n",
       " '__le__',\n",
       " '__len__',\n",
       " '__lt__',\n",
       " '__mod__',\n",
       " '__mul__',\n",
       " '__ne__',\n",
       " '__new__',\n",
       " '__reduce__',\n",
       " '__reduce_ex__',\n",
       " '__repr__',\n",
       " '__rmod__',\n",
       " '__rmul__',\n",
       " '__setattr__',\n",
       " '__sizeof__',\n",
       " '__str__',\n",
       " '__subclasshook__',\n",
       " 'capitalize',\n",
       " 'casefold',\n",
       " 'center',\n",
       " 'count',\n",
       " 'encode',\n",
       " 'endswith',\n",
       " 'expandtabs',\n",
       " 'find',\n",
       " 'format',\n",
       " 'format_map',\n",
       " 'index',\n",
       " 'isalnum',\n",
       " 'isalpha',\n",
       " 'isascii',\n",
       " 'isdecimal',\n",
       " 'isdigit',\n",
       " 'isidentifier',\n",
       " 'islower',\n",
       " 'isnumeric',\n",
       " 'isprintable',\n",
       " 'isspace',\n",
       " 'istitle',\n",
       " 'isupper',\n",
       " 'join',\n",
       " 'ljust',\n",
       " 'lower',\n",
       " 'lstrip',\n",
       " 'maketrans',\n",
       " 'partition',\n",
       " 'removeprefix',\n",
       " 'removesuffix',\n",
       " 'replace',\n",
       " 'rfind',\n",
       " 'rindex',\n",
       " 'rjust',\n",
       " 'rpartition',\n",
       " 'rsplit',\n",
       " 'rstrip',\n",
       " 'split',\n",
       " 'splitlines',\n",
       " 'startswith',\n",
       " 'strip',\n",
       " 'swapcase',\n",
       " 'title',\n",
       " 'translate',\n",
       " 'upper',\n",
       " 'zfill']"
      ]
     },
     "execution_count": 85,
     "metadata": {},
     "output_type": "execute_result"
    }
   ],
   "source": [
    "dir(a_string)"
   ]
  },
  {
   "cell_type": "code",
   "execution_count": 86,
   "id": "5ab3a9e4-0f5c-4b46-bbfc-4eb9487c3e7e",
   "metadata": {},
   "outputs": [],
   "source": [
    "a_string = \"Zheng, Xu\""
   ]
  },
  {
   "cell_type": "code",
   "execution_count": 91,
   "id": "12cf58c2-0a84-44ef-b35f-05ef0e51c0d2",
   "metadata": {},
   "outputs": [
    {
     "data": {
      "text/plain": [
       "['Zheng', ' Xu']"
      ]
     },
     "execution_count": 91,
     "metadata": {},
     "output_type": "execute_result"
    }
   ],
   "source": [
    "split_name=a_string.split(\",\")"
   ]
  },
  {
   "cell_type": "code",
   "execution_count": 88,
   "id": "7220ebc8-5e2f-4497-b689-709ba89fb0f6",
   "metadata": {},
   "outputs": [
    {
     "data": {
      "text/plain": [
       "32"
      ]
     },
     "execution_count": 88,
     "metadata": {},
     "output_type": "execute_result"
    }
   ],
   "source": [
    "ord(\" \")"
   ]
  },
  {
   "cell_type": "code",
   "execution_count": 92,
   "id": "7aed6938-e0ef-4307-8d3f-5f98ed7518c4",
   "metadata": {},
   "outputs": [],
   "source": [
    "split_name[1]=split_name[1].strip()"
   ]
  },
  {
   "cell_type": "code",
   "execution_count": 93,
   "id": "bf88a41d-d915-4f93-b4b8-1230bab217ef",
   "metadata": {},
   "outputs": [
    {
     "data": {
      "text/plain": [
       "['Zheng', 'Xu']"
      ]
     },
     "execution_count": 93,
     "metadata": {},
     "output_type": "execute_result"
    }
   ],
   "source": [
    "split_name"
   ]
  },
  {
   "cell_type": "code",
   "execution_count": 94,
   "id": "a58017d2-afc5-43ca-b955-7e20367b9cb5",
   "metadata": {},
   "outputs": [
    {
     "data": {
      "text/plain": [
       "'Xu'"
      ]
     },
     "execution_count": 94,
     "metadata": {},
     "output_type": "execute_result"
    }
   ],
   "source": [
    "split_name[1]"
   ]
  },
  {
   "cell_type": "code",
   "execution_count": 95,
   "id": "6c855408-b9c2-425f-9bc5-cb09ddd472bc",
   "metadata": {},
   "outputs": [
    {
     "data": {
      "text/plain": [
       "'Zheng, Xu'"
      ]
     },
     "execution_count": 95,
     "metadata": {},
     "output_type": "execute_result"
    }
   ],
   "source": [
    "a_string"
   ]
  },
  {
   "cell_type": "code",
   "execution_count": 96,
   "id": "bd981a14-3f41-48f5-934b-34e45590e4a8",
   "metadata": {},
   "outputs": [],
   "source": [
    "split_name=a_string.split(\"\\n\")"
   ]
  },
  {
   "cell_type": "code",
   "execution_count": 97,
   "id": "a049fbe4-1a2d-46e7-910e-849a6ad47cf5",
   "metadata": {},
   "outputs": [],
   "source": [
    "b_string = \"Zheng, Xu\".lower()"
   ]
  },
  {
   "cell_type": "code",
   "execution_count": 98,
   "id": "c42d4b4e-8c7a-4727-8641-ffdb56d6287b",
   "metadata": {},
   "outputs": [
    {
     "data": {
      "text/plain": [
       "'zheng, xu'"
      ]
     },
     "execution_count": 98,
     "metadata": {},
     "output_type": "execute_result"
    }
   ],
   "source": [
    "b_string"
   ]
  },
  {
   "cell_type": "code",
   "execution_count": 99,
   "id": "f0ec1d16-f9f8-4ef9-9418-b0b874b84252",
   "metadata": {},
   "outputs": [],
   "source": [
    "c_string = \"Zheng, Xu\".upper()"
   ]
  },
  {
   "cell_type": "code",
   "execution_count": 100,
   "id": "3585bcdb-ac26-4958-a377-1a1511e18d08",
   "metadata": {},
   "outputs": [
    {
     "data": {
      "text/plain": [
       "'ZHENG, XU'"
      ]
     },
     "execution_count": 100,
     "metadata": {},
     "output_type": "execute_result"
    }
   ],
   "source": [
    "c_string "
   ]
  },
  {
   "cell_type": "code",
   "execution_count": 106,
   "id": "f936642e-8698-46a0-8bb9-502a18901878",
   "metadata": {},
   "outputs": [
    {
     "data": {
      "text/plain": [
       "True"
      ]
     },
     "execution_count": 106,
     "metadata": {},
     "output_type": "execute_result"
    }
   ],
   "source": [
    "\"Kyle\".lower()==\"kyle\""
   ]
  },
  {
   "cell_type": "code",
   "execution_count": 107,
   "id": "4715e182-418a-4d98-9dae-8ee3ad648fe4",
   "metadata": {},
   "outputs": [
    {
     "data": {
      "text/plain": [
       "'kyle'"
      ]
     },
     "execution_count": 107,
     "metadata": {},
     "output_type": "execute_result"
    }
   ],
   "source": [
    "\"Kyle\".lower()"
   ]
  },
  {
   "cell_type": "code",
   "execution_count": 109,
   "id": "7a33d86e-38cb-48b1-9973-e1e7bc0a48de",
   "metadata": {},
   "outputs": [
    {
     "data": {
      "text/plain": [
       "True"
      ]
     },
     "execution_count": 109,
     "metadata": {},
     "output_type": "execute_result"
    }
   ],
   "source": [
    "\" Kyle \".lower().strip()==\"kyle\""
   ]
  },
  {
   "cell_type": "code",
   "execution_count": 110,
   "id": "83da801b-80ca-4bab-a5e0-2f09fb58b675",
   "metadata": {},
   "outputs": [
    {
     "data": {
      "text/plain": [
       "'\\nanything \\nI want\\n\\n'"
      ]
     },
     "execution_count": 110,
     "metadata": {},
     "output_type": "execute_result"
    }
   ],
   "source": [
    "'''\n",
    "anything \n",
    "I want\n",
    "\n",
    "'''"
   ]
  },
  {
   "cell_type": "code",
   "execution_count": 111,
   "id": "fcfc21f0-ddb0-4cc8-a930-2f6f740fcc99",
   "metadata": {},
   "outputs": [
    {
     "data": {
      "text/plain": [
       "'\\n\\n'"
      ]
     },
     "execution_count": 111,
     "metadata": {},
     "output_type": "execute_result"
    }
   ],
   "source": [
    "\"\"\"\n",
    "\n",
    "\"\"\""
   ]
  },
  {
   "cell_type": "code",
   "execution_count": 112,
   "id": "916ed052-fad8-4505-9c94-76dca14822b6",
   "metadata": {},
   "outputs": [
    {
     "data": {
      "text/plain": [
       "65"
      ]
     },
     "execution_count": 112,
     "metadata": {},
     "output_type": "execute_result"
    }
   ],
   "source": [
    "ord('A')"
   ]
  },
  {
   "cell_type": "code",
   "execution_count": 114,
   "id": "ab140d04-6016-4049-be57-33f3e652bc1a",
   "metadata": {},
   "outputs": [
    {
     "data": {
      "text/plain": [
       "65"
      ]
     },
     "execution_count": 114,
     "metadata": {},
     "output_type": "execute_result"
    }
   ],
   "source": [
    "ord(\"A\")"
   ]
  },
  {
   "cell_type": "code",
   "execution_count": 115,
   "id": "5ecceee4-e852-44fa-8c44-a0d2d9b091cd",
   "metadata": {},
   "outputs": [
    {
     "data": {
      "text/plain": [
       "34"
      ]
     },
     "execution_count": 115,
     "metadata": {},
     "output_type": "execute_result"
    }
   ],
   "source": [
    "ord(\"\\\"\")"
   ]
  },
  {
   "cell_type": "code",
   "execution_count": 116,
   "id": "3b7b5c86-d133-4b63-9016-3803c9391241",
   "metadata": {},
   "outputs": [
    {
     "data": {
      "text/plain": [
       "34"
      ]
     },
     "execution_count": 116,
     "metadata": {},
     "output_type": "execute_result"
    }
   ],
   "source": [
    "ord('\"')"
   ]
  },
  {
   "cell_type": "code",
   "execution_count": 118,
   "id": "8e9df669-284b-4ee2-9f48-67cf9c9aacb3",
   "metadata": {},
   "outputs": [
    {
     "data": {
      "text/plain": [
       "'\\nAny thing\\nI want\\n'"
      ]
     },
     "execution_count": 118,
     "metadata": {},
     "output_type": "execute_result"
    }
   ],
   "source": [
    "\"\"\"\n",
    "Any thing\n",
    "I want\n",
    "\"\"\""
   ]
  },
  {
   "cell_type": "code",
   "execution_count": 119,
   "id": "5001389a-6eff-4fe3-8d36-3e71b8ef27ac",
   "metadata": {},
   "outputs": [],
   "source": [
    "List_A = [9,2,3,8,5,1,7,3,12,5]"
   ]
  },
  {
   "cell_type": "code",
   "execution_count": 121,
   "id": "d2695d5e-b77c-46ea-83db-2fd410b61161",
   "metadata": {},
   "outputs": [
    {
     "data": {
      "text/plain": [
       "[1, 2, 3, 3, 5, 5, 7, 8, 9, 12]"
      ]
     },
     "execution_count": 121,
     "metadata": {},
     "output_type": "execute_result"
    }
   ],
   "source": [
    "List_A.sort()\n",
    "List_A"
   ]
  },
  {
   "cell_type": "code",
   "execution_count": 122,
   "id": "c6d84380-3391-4765-886d-86e2a1661f79",
   "metadata": {},
   "outputs": [],
   "source": [
    "List_S=List_A.sort()"
   ]
  },
  {
   "cell_type": "code",
   "execution_count": 124,
   "id": "7acbdda5-e1eb-4f17-9098-27cdf4c1b89d",
   "metadata": {},
   "outputs": [],
   "source": [
    "List_S"
   ]
  },
  {
   "cell_type": "code",
   "execution_count": 125,
   "id": "c6bbc69b-6992-4c9b-883a-0459986bcf6e",
   "metadata": {},
   "outputs": [],
   "source": [
    "List_S=sorted(List_A)"
   ]
  },
  {
   "cell_type": "code",
   "execution_count": 126,
   "id": "52d59977-540b-4a5c-9886-5ff68513324f",
   "metadata": {},
   "outputs": [
    {
     "data": {
      "text/plain": [
       "[1, 2, 3, 3, 5, 5, 7, 8, 9, 12]"
      ]
     },
     "execution_count": 126,
     "metadata": {},
     "output_type": "execute_result"
    }
   ],
   "source": [
    "List_S"
   ]
  },
  {
   "cell_type": "code",
   "execution_count": 2,
   "id": "119c4e11-8966-4523-bcc7-e4f21d03fe79",
   "metadata": {},
   "outputs": [
    {
     "name": "stdout",
     "output_type": "stream",
     "text": [
      "hello 'world'\n"
     ]
    }
   ],
   "source": [
    "a_string = \"hello \\\"world'\"\n",
    "print(a_string)"
   ]
  },
  {
   "cell_type": "code",
   "execution_count": 3,
   "id": "50c98ada-012b-4f40-8b76-99e99d7a4005",
   "metadata": {},
   "outputs": [
    {
     "name": "stdout",
     "output_type": "stream",
     "text": [
      "hello \"world\"\n"
     ]
    }
   ],
   "source": [
    "b_string = 'hello \"world\"'\n",
    "print(b_string)"
   ]
  },
  {
   "cell_type": "code",
   "execution_count": 6,
   "id": "464620d2-b9bc-47ad-a5df-2671e75f61ff",
   "metadata": {},
   "outputs": [
    {
     "name": "stdout",
     "output_type": "stream",
     "text": [
      "This is a multiline \n",
      "string\n"
     ]
    }
   ],
   "source": [
    "m_string = '''This is a multiline \n",
    "string'''\n",
    "print(m_string)"
   ]
  },
  {
   "cell_type": "code",
   "execution_count": 7,
   "id": "abd1d4fc-9bc6-4f40-b6ba-d8ebf5898444",
   "metadata": {},
   "outputs": [
    {
     "name": "stdout",
     "output_type": "stream",
     "text": [
      "hello world\n"
     ]
    }
   ],
   "source": [
    "word=\"world\"\n",
    "f_string = f\"hello {word}\"\n",
    "print(f_string)"
   ]
  },
  {
   "cell_type": "code",
   "execution_count": 8,
   "id": "40c165c9-6c7d-4014-b476-f66e210892f5",
   "metadata": {},
   "outputs": [
    {
     "name": "stdout",
     "output_type": "stream",
     "text": [
      "hello world\n"
     ]
    }
   ],
   "source": [
    "print(\"hello \"+ word)"
   ]
  },
  {
   "cell_type": "code",
   "execution_count": 9,
   "id": "11937124-a14c-42fa-8625-5fbd6f953d4f",
   "metadata": {},
   "outputs": [
    {
     "name": "stdout",
     "output_type": "stream",
     "text": [
      "hello 3.12\n"
     ]
    }
   ],
   "source": [
    "var=3.124123142\n",
    "g_string = f\"hello {var:.2f}\"\n",
    "print(g_string)"
   ]
  },
  {
   "cell_type": "code",
   "execution_count": 10,
   "id": "c4b4ecfe-8fc7-42ac-8138-f69a6eb14f40",
   "metadata": {},
   "outputs": [
    {
     "name": "stdout",
     "output_type": "stream",
     "text": [
      "hello 3.124123142\n"
     ]
    }
   ],
   "source": [
    "print(\"hello \"+str(var))"
   ]
  },
  {
   "cell_type": "code",
   "execution_count": 13,
   "id": "8b1f1d96-7a52-4f15-8b9b-e438b3ca6e7d",
   "metadata": {},
   "outputs": [
    {
     "name": "stdout",
     "output_type": "stream",
     "text": [
      "\\hello\\world'3.124123142\n"
     ]
    }
   ],
   "source": [
    "r_string= rf\"\\hello\\world'{var}\"\n",
    "print(r_string)"
   ]
  },
  {
   "cell_type": "code",
   "execution_count": 14,
   "id": "faf82be7-e647-4617-9633-12d8cc8c37dc",
   "metadata": {},
   "outputs": [
    {
     "data": {
      "text/plain": [
       "[1, 2, 3, 3, 4, 5]"
      ]
     },
     "execution_count": 14,
     "metadata": {},
     "output_type": "execute_result"
    }
   ],
   "source": [
    "[1,2,3]+[3,4,5]"
   ]
  },
  {
   "cell_type": "code",
   "execution_count": 15,
   "id": "f0e0da7d-099a-4aaa-b76f-27b8a79d18df",
   "metadata": {},
   "outputs": [
    {
     "data": {
      "text/plain": [
       "[1, 2, 3, 1, 2, 3]"
      ]
     },
     "execution_count": 15,
     "metadata": {},
     "output_type": "execute_result"
    }
   ],
   "source": [
    "[1,2,3]*2"
   ]
  },
  {
   "cell_type": "code",
   "execution_count": 16,
   "id": "fa6e138e-d048-42b6-9aea-dc8cfd37921c",
   "metadata": {},
   "outputs": [
    {
     "data": {
      "text/plain": [
       "[1, 1, 1, 1, 1]"
      ]
     },
     "execution_count": 16,
     "metadata": {},
     "output_type": "execute_result"
    }
   ],
   "source": [
    "[1]*5"
   ]
  },
  {
   "cell_type": "code",
   "execution_count": 17,
   "id": "feff1231-84e1-4a82-aa33-843fc4ae305b",
   "metadata": {},
   "outputs": [
    {
     "data": {
      "text/plain": [
       "True"
      ]
     },
     "execution_count": 17,
     "metadata": {},
     "output_type": "execute_result"
    }
   ],
   "source": [
    "\"hello\" in r_string"
   ]
  },
  {
   "cell_type": "code",
   "execution_count": 18,
   "id": "40b85ed9-9646-41a6-9ea3-41d2f9171b8a",
   "metadata": {},
   "outputs": [
    {
     "data": {
      "text/plain": [
       "True"
      ]
     },
     "execution_count": 18,
     "metadata": {},
     "output_type": "execute_result"
    }
   ],
   "source": [
    "3 in [1,2,3]"
   ]
  },
  {
   "cell_type": "code",
   "execution_count": 19,
   "id": "78c9a902-ba6e-483e-bc92-6b6926af2e49",
   "metadata": {},
   "outputs": [
    {
     "data": {
      "text/plain": [
       "False"
      ]
     },
     "execution_count": 19,
     "metadata": {},
     "output_type": "execute_result"
    }
   ],
   "source": [
    "4 in [1,2,3]"
   ]
  },
  {
   "cell_type": "code",
   "execution_count": 20,
   "id": "d83eaeef-79c7-43f8-bbea-e306d08cd3b3",
   "metadata": {},
   "outputs": [
    {
     "data": {
      "text/plain": [
       "False"
      ]
     },
     "execution_count": 20,
     "metadata": {},
     "output_type": "execute_result"
    }
   ],
   "source": [
    "[1,2] in [1,2,3]"
   ]
  },
  {
   "cell_type": "code",
   "execution_count": 21,
   "id": "4dc222ef-8fa5-4d03-9512-c0927f885780",
   "metadata": {},
   "outputs": [
    {
     "data": {
      "text/plain": [
       "'dqf,AA,qfq,AA,fqfq3'"
      ]
     },
     "execution_count": 21,
     "metadata": {},
     "output_type": "execute_result"
    }
   ],
   "source": [
    "\",AA,\".join([\"dqf\",\"qfq\",\"fqfq3\"])"
   ]
  },
  {
   "cell_type": "code",
   "execution_count": 26,
   "id": "146f519a-dd74-481e-bd7d-16c3c6e65a76",
   "metadata": {},
   "outputs": [
    {
     "data": {
      "text/plain": [
       "{3, 4, 5, 6, 7}"
      ]
     },
     "execution_count": 26,
     "metadata": {},
     "output_type": "execute_result"
    }
   ],
   "source": [
    "a_set={3,4,5}\n",
    "b_set={5,6,7}\n",
    "a_set.union(b_set)"
   ]
  },
  {
   "cell_type": "code",
   "execution_count": 24,
   "id": "a88e43ea-6f33-4bed-8f79-a4e8e3a4585a",
   "metadata": {},
   "outputs": [
    {
     "name": "stdout",
     "output_type": "stream",
     "text": [
      "{1, 4, 5, 31}\n"
     ]
    }
   ],
   "source": [
    "c_set=set([1,31,4,4,5])\n",
    "print(c_set)"
   ]
  },
  {
   "cell_type": "code",
   "execution_count": 27,
   "id": "4efb5c16-798d-45ab-817a-ab1e22763ea1",
   "metadata": {},
   "outputs": [
    {
     "data": {
      "text/plain": [
       "{3, 4}"
      ]
     },
     "execution_count": 27,
     "metadata": {},
     "output_type": "execute_result"
    }
   ],
   "source": [
    "a_set.difference(b_set)"
   ]
  },
  {
   "cell_type": "code",
   "execution_count": 28,
   "id": "c5b281bf-2a1a-4155-adb5-2e856c7d88ba",
   "metadata": {},
   "outputs": [
    {
     "data": {
      "text/plain": [
       "{3, 4}"
      ]
     },
     "execution_count": 28,
     "metadata": {},
     "output_type": "execute_result"
    }
   ],
   "source": [
    "a_set-b_set"
   ]
  },
  {
   "cell_type": "code",
   "execution_count": 48,
   "id": "e2745822-7a33-4c15-8d41-d629b75f2406",
   "metadata": {},
   "outputs": [],
   "source": [
    "a_dict={4:\"Kyle\",3:\"Johnsen\"}"
   ]
  },
  {
   "cell_type": "code",
   "execution_count": 30,
   "id": "dfed2eef-18d7-48c0-93ad-046e7a88277d",
   "metadata": {},
   "outputs": [
    {
     "name": "stdout",
     "output_type": "stream",
     "text": [
      "{3: 'Kyle', 4: 'Johnsen'}\n"
     ]
    }
   ],
   "source": [
    "print(a_dict)"
   ]
  },
  {
   "cell_type": "code",
   "execution_count": 31,
   "id": "93d03bf2-df7c-466d-8697-d1696ebf30a3",
   "metadata": {},
   "outputs": [
    {
     "data": {
      "text/plain": [
       "'Kyle'"
      ]
     },
     "execution_count": 31,
     "metadata": {},
     "output_type": "execute_result"
    }
   ],
   "source": [
    "a_dict[3]"
   ]
  },
  {
   "cell_type": "code",
   "execution_count": 32,
   "id": "72b1d761-6f72-440c-b2e4-ba5e8b082773",
   "metadata": {},
   "outputs": [
    {
     "data": {
      "text/plain": [
       "'Johnsen'"
      ]
     },
     "execution_count": 32,
     "metadata": {},
     "output_type": "execute_result"
    }
   ],
   "source": [
    "a_dict[4]"
   ]
  },
  {
   "cell_type": "code",
   "execution_count": 33,
   "id": "a16d00ac-4d3b-4b49-a908-eab80a505a58",
   "metadata": {},
   "outputs": [
    {
     "data": {
      "text/plain": [
       "dict_keys([3, 4])"
      ]
     },
     "execution_count": 33,
     "metadata": {},
     "output_type": "execute_result"
    }
   ],
   "source": [
    "a_dict.keys()"
   ]
  },
  {
   "cell_type": "code",
   "execution_count": 34,
   "id": "99df6b53-9387-4804-9fd1-8ac7114a971d",
   "metadata": {},
   "outputs": [
    {
     "data": {
      "text/plain": [
       "[3, 4]"
      ]
     },
     "execution_count": 34,
     "metadata": {},
     "output_type": "execute_result"
    }
   ],
   "source": [
    "list(a_dict.keys())"
   ]
  },
  {
   "cell_type": "code",
   "execution_count": 35,
   "id": "6100888a-5266-4f5c-aa18-43a7e613ab61",
   "metadata": {},
   "outputs": [
    {
     "data": {
      "text/plain": [
       "dict_values(['Kyle', 'Johnsen'])"
      ]
     },
     "execution_count": 35,
     "metadata": {},
     "output_type": "execute_result"
    }
   ],
   "source": [
    "a_dict.values()"
   ]
  },
  {
   "cell_type": "code",
   "execution_count": 36,
   "id": "3a8c5407-a7a1-4152-bf9a-e50f7d4d1965",
   "metadata": {},
   "outputs": [
    {
     "data": {
      "text/plain": [
       "True"
      ]
     },
     "execution_count": 36,
     "metadata": {},
     "output_type": "execute_result"
    }
   ],
   "source": [
    "3 in a_dict"
   ]
  },
  {
   "cell_type": "code",
   "execution_count": 37,
   "id": "89529977-d767-4847-a267-bc73f3dd8998",
   "metadata": {},
   "outputs": [
    {
     "ename": "NameError",
     "evalue": "name 'kyle' is not defined",
     "output_type": "error",
     "traceback": [
      "\u001b[1;31m---------------------------------------------------------------------------\u001b[0m",
      "\u001b[1;31mNameError\u001b[0m                                 Traceback (most recent call last)",
      "Cell \u001b[1;32mIn[37], line 1\u001b[0m\n\u001b[1;32m----> 1\u001b[0m \u001b[43mkyle\u001b[49m \u001b[38;5;129;01min\u001b[39;00m a_dict\n",
      "\u001b[1;31mNameError\u001b[0m: name 'kyle' is not defined"
     ]
    }
   ],
   "source": [
    "kyle in a_dict"
   ]
  },
  {
   "cell_type": "code",
   "execution_count": 39,
   "id": "968e90e2-e043-4ce8-966b-a8e86bfabe60",
   "metadata": {},
   "outputs": [
    {
     "data": {
      "text/plain": [
       "False"
      ]
     },
     "execution_count": 39,
     "metadata": {},
     "output_type": "execute_result"
    }
   ],
   "source": [
    "'Kyle' in a_dict"
   ]
  },
  {
   "cell_type": "code",
   "execution_count": 40,
   "id": "9dd685a2-0a8d-4468-ac8b-4fdeafaccd66",
   "metadata": {},
   "outputs": [
    {
     "data": {
      "text/plain": [
       "dict_items([(3, 'Kyle'), (4, 'Johnsen')])"
      ]
     },
     "execution_count": 40,
     "metadata": {},
     "output_type": "execute_result"
    }
   ],
   "source": [
    "a_dict.items()"
   ]
  },
  {
   "cell_type": "code",
   "execution_count": 41,
   "id": "f86b88dd-dd26-4ae9-89bc-4d61d7517dcb",
   "metadata": {},
   "outputs": [
    {
     "data": {
      "text/plain": [
       "dict_items"
      ]
     },
     "execution_count": 41,
     "metadata": {},
     "output_type": "execute_result"
    }
   ],
   "source": [
    "type(a_dict.items())"
   ]
  },
  {
   "cell_type": "code",
   "execution_count": 42,
   "id": "323a0a69-8cc8-4cd8-a142-4da78c6566e5",
   "metadata": {},
   "outputs": [
    {
     "ename": "KeyError",
     "evalue": "0",
     "output_type": "error",
     "traceback": [
      "\u001b[1;31m---------------------------------------------------------------------------\u001b[0m",
      "\u001b[1;31mKeyError\u001b[0m                                  Traceback (most recent call last)",
      "Cell \u001b[1;32mIn[42], line 1\u001b[0m\n\u001b[1;32m----> 1\u001b[0m \u001b[43ma_dict\u001b[49m\u001b[43m[\u001b[49m\u001b[38;5;241;43m0\u001b[39;49m\u001b[43m]\u001b[49m\n",
      "\u001b[1;31mKeyError\u001b[0m: 0"
     ]
    }
   ],
   "source": [
    "a_dict[0]"
   ]
  },
  {
   "cell_type": "code",
   "execution_count": 45,
   "id": "3ae48731-790c-4c59-a7b4-9997f08a515f",
   "metadata": {},
   "outputs": [],
   "source": [
    "a_list=list(a_dict.items())"
   ]
  },
  {
   "cell_type": "code",
   "execution_count": 46,
   "id": "af8dec4c-4bba-4f07-93a7-65adb7b2f3bd",
   "metadata": {},
   "outputs": [
    {
     "data": {
      "text/plain": [
       "(3, 'Kyle')"
      ]
     },
     "execution_count": 46,
     "metadata": {},
     "output_type": "execute_result"
    }
   ],
   "source": [
    "a_list[0]"
   ]
  },
  {
   "cell_type": "code",
   "execution_count": 47,
   "id": "4696822b-eda9-4a04-9049-4ebd4dae273e",
   "metadata": {},
   "outputs": [
    {
     "name": "stdout",
     "output_type": "stream",
     "text": [
      "[(3, 'Kyle'), (4, 'Johnsen')]\n"
     ]
    }
   ],
   "source": [
    "print(a_list)"
   ]
  },
  {
   "cell_type": "code",
   "execution_count": 49,
   "id": "eab64dc6-11c9-43b8-8d97-6659d5451848",
   "metadata": {},
   "outputs": [
    {
     "data": {
      "text/plain": [
       "[3, 4]"
      ]
     },
     "execution_count": 49,
     "metadata": {},
     "output_type": "execute_result"
    }
   ],
   "source": [
    "sorted(a_dict.keys())"
   ]
  },
  {
   "cell_type": "code",
   "execution_count": 50,
   "id": "9c93c882-8f5d-413b-ad9f-8af27d06ef17",
   "metadata": {},
   "outputs": [
    {
     "data": {
      "text/plain": [
       "list"
      ]
     },
     "execution_count": 50,
     "metadata": {},
     "output_type": "execute_result"
    }
   ],
   "source": [
    "type (sorted(a_dict.keys()))"
   ]
  },
  {
   "cell_type": "code",
   "execution_count": 51,
   "id": "333a8789-581f-43c6-8ef5-f141224db97c",
   "metadata": {},
   "outputs": [],
   "source": [
    "del a_dict[3]"
   ]
  },
  {
   "cell_type": "code",
   "execution_count": 52,
   "id": "591dd313-6ff4-4aa1-9ec9-da513f743f83",
   "metadata": {},
   "outputs": [
    {
     "data": {
      "text/plain": [
       "{4: 'Kyle'}"
      ]
     },
     "execution_count": 52,
     "metadata": {},
     "output_type": "execute_result"
    }
   ],
   "source": [
    "a_dict"
   ]
  },
  {
   "cell_type": "code",
   "execution_count": 53,
   "id": "1045f440-0749-4892-8180-587d4fc339e2",
   "metadata": {},
   "outputs": [
    {
     "name": "stdout",
     "output_type": "stream",
     "text": [
      "[1, 2, 3] [1, 2, 3]\n"
     ]
    }
   ],
   "source": [
    "A= [1,2,3]\n",
    "B=A\n",
    "print(A,B)"
   ]
  },
  {
   "cell_type": "code",
   "execution_count": 54,
   "id": "c7cb4f26-3795-470a-9396-1c11a52dbfe3",
   "metadata": {},
   "outputs": [
    {
     "name": "stdout",
     "output_type": "stream",
     "text": [
      "[3, 2, 1] [3, 2, 1]\n"
     ]
    }
   ],
   "source": [
    "A.reverse()\n",
    "print(A,B)"
   ]
  },
  {
   "cell_type": "code",
   "execution_count": 55,
   "id": "9d6c4382-5fd0-4ca6-b8c6-21df173b50bb",
   "metadata": {},
   "outputs": [
    {
     "data": {
      "text/plain": [
       "1397553416192"
      ]
     },
     "execution_count": 55,
     "metadata": {},
     "output_type": "execute_result"
    }
   ],
   "source": [
    "id(A)"
   ]
  },
  {
   "cell_type": "code",
   "execution_count": 56,
   "id": "d77cdd8f-3dab-4683-b579-106d92413d47",
   "metadata": {},
   "outputs": [
    {
     "data": {
      "text/plain": [
       "1397553416192"
      ]
     },
     "execution_count": 56,
     "metadata": {},
     "output_type": "execute_result"
    }
   ],
   "source": [
    "id(B)"
   ]
  },
  {
   "cell_type": "code",
   "execution_count": 57,
   "id": "16c9513e-b0ee-43a5-8a46-1518af43e31a",
   "metadata": {},
   "outputs": [
    {
     "data": {
      "text/plain": [
       "True"
      ]
     },
     "execution_count": 57,
     "metadata": {},
     "output_type": "execute_result"
    }
   ],
   "source": [
    "id(A)==id(B)"
   ]
  },
  {
   "cell_type": "code",
   "execution_count": null,
   "id": "a875842c-1381-4387-90eb-f375ab698ddc",
   "metadata": {},
   "outputs": [],
   "source": []
  }
 ],
 "metadata": {
  "kernelspec": {
   "display_name": "Python 3 (ipykernel)",
   "language": "python",
   "name": "python3"
  },
  "language_info": {
   "codemirror_mode": {
    "name": "ipython",
    "version": 3
   },
   "file_extension": ".py",
   "mimetype": "text/x-python",
   "name": "python",
   "nbconvert_exporter": "python",
   "pygments_lexer": "ipython3",
   "version": "3.9.13"
  }
 },
 "nbformat": 4,
 "nbformat_minor": 5
}
