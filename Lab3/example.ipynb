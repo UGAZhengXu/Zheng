{
 "cells": [
  {
   "cell_type": "code",
   "execution_count": null,
   "metadata": {},
   "outputs": [],
   "source": [
    "import matplotlib.pyplot as plt"
   ]
  }
 ],
 "metadata": {
  "kernelspec": {
   "display_name": "Python 3",
   "language": "python",
   "name": "python3"
  },
  "language_info": {
   "name": "python",
   "version": "3.9.16"
  },
  "orig_nbformat": 4,
  "vscode": {
   "interpreter": {
    "hash": "de573ca2d3beb71a824eba7d8a9b3a1ba5c89bae218994d01f5d4bd5143bbcd1"
   }
  }
 },
 "nbformat": 4,
 "nbformat_minor": 2
}
